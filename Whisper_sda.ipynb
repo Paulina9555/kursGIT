{
  "cells": [
    {
      "cell_type": "markdown",
      "metadata": {
        "id": "view-in-github",
        "colab_type": "text"
      },
      "source": [
        "<a href=\"https://colab.research.google.com/github/Paulina9555/kursGIT/blob/master/Whisper_sda.ipynb\" target=\"_parent\"><img src=\"https://colab.research.google.com/assets/colab-badge.svg\" alt=\"Open In Colab\"/></a>"
      ]
    },
    {
      "cell_type": "code",
      "execution_count": null,
      "id": "bb5704f1-d5d1-4592-a8bf-cb0d17ce0057",
      "metadata": {
        "colab": {
          "base_uri": "https://localhost:8080/"
        },
        "id": "bb5704f1-d5d1-4592-a8bf-cb0d17ce0057",
        "outputId": "dbd40c51-eded-429c-e2fb-6bf16f8c320b"
      },
      "outputs": [
        {
          "output_type": "stream",
          "name": "stdout",
          "text": [
            "\u001b[31mERROR: pip's dependency resolver does not currently take into account all the packages that are installed. This behaviour is the source of the following dependency conflicts.\n",
            "llmx 0.0.15a0 requires cohere, which is not installed.\n",
            "llmx 0.0.15a0 requires openai, which is not installed.\u001b[0m\u001b[31m\n",
            "\u001b[0mSuccessfully installed openai-whisper-20231117 tiktoken-0.5.2\n"
          ]
        }
      ],
      "source": [
        "!pip install -U openai-whisper"
      ]
    },
    {
      "cell_type": "code",
      "execution_count": null,
      "id": "4165b121-e8ec-408e-9839-9388e2a7c93d",
      "metadata": {
        "colab": {
          "base_uri": "https://localhost:8080/"
        },
        "id": "4165b121-e8ec-408e-9839-9388e2a7c93d",
        "outputId": "67a7de05-5252-470a-b433-8fb5e17e92a9"
      },
      "outputs": [
        {
          "output_type": "stream",
          "name": "stderr",
          "text": [
            "100%|█████████████████████████████████████| 1.42G/1.42G [00:17<00:00, 86.5MiB/s]\n"
          ]
        }
      ],
      "source": [
        "import whisper\n",
        "model = whisper.load_model(\"medium\", device = \"cuda\")"
      ]
    },
    {
      "cell_type": "code",
      "source": [
        "import librosa"
      ],
      "metadata": {
        "id": "udN5zdtv4egu"
      },
      "id": "udN5zdtv4egu",
      "execution_count": null,
      "outputs": []
    },
    {
      "cell_type": "code",
      "source": [
        "wav, sr = librosa.load(\"0_test_audio.wav\", sr = 16_000)"
      ],
      "metadata": {
        "id": "v9FPwjiU4en7"
      },
      "id": "v9FPwjiU4en7",
      "execution_count": null,
      "outputs": []
    },
    {
      "cell_type": "code",
      "source": [
        "result = model.transcribe(wav)\n",
        "print(result[\"text\"])"
      ],
      "metadata": {
        "colab": {
          "base_uri": "https://localhost:8080/"
        },
        "id": "iu7VHM0Y4lZR",
        "outputId": "ebda27ab-ff0c-4968-d58b-05d6a5e8aa37"
      },
      "id": "iu7VHM0Y4lZR",
      "execution_count": null,
      "outputs": [
        {
          "output_type": "stream",
          "name": "stdout",
          "text": [
            " Tato, Adela, czemu wujcie patrze ciągle chodzi w tym białym swetrze z Aranifaram, który dostał od babcię Marylki? Bo babcia Marylki.\n"
          ]
        }
      ]
    },
    {
      "cell_type": "code",
      "source": [
        "result = model.transcribe(\"0_test_audio.wav\")\n",
        "print(result[\"text\"])"
      ],
      "metadata": {
        "id": "eVIEnIAs4kjj"
      },
      "id": "eVIEnIAs4kjj",
      "execution_count": null,
      "outputs": []
    },
    {
      "cell_type": "code",
      "execution_count": null,
      "id": "480952bd-7fde-4b79-882d-7778ec7c430e",
      "metadata": {
        "colab": {
          "base_uri": "https://localhost:8080/"
        },
        "id": "480952bd-7fde-4b79-882d-7778ec7c430e",
        "outputId": "5e225c0b-9a4e-4b56-90a5-af2574a8a154"
      },
      "outputs": [
        {
          "output_type": "stream",
          "name": "stdout",
          "text": [
            " Tato, Adela, czemu wujcie patrze ciągle chodzi w tym białym swetrze z Aranifaram, który dostał od babcię Marylki? Bo babcia Marylki.\n"
          ]
        }
      ],
      "source": [
        "result = model.transcribe(\"0_test_audio.wav\")\n",
        "print(result[\"text\"])"
      ]
    },
    {
      "cell_type": "code",
      "execution_count": null,
      "id": "79c1ef57-b8e5-4208-b059-7234a78fdd60",
      "metadata": {
        "colab": {
          "base_uri": "https://localhost:8080/"
        },
        "id": "79c1ef57-b8e5-4208-b059-7234a78fdd60",
        "outputId": "63ea0dbf-a854-41a1-c4da-effbb850061f"
      },
      "outputs": [
        {
          "output_type": "stream",
          "name": "stdout",
          "text": [
            " Juice drinks, sodas, and sports drinks are loaded with added sugars and calories and have little or no nutritional value. Sugary drinks can destroy teeth, cause obesity, and lead to type 2 diabetes. Sugar bites. Protect your kids. Go to www.juicedrinks.com for more information.\n"
          ]
        }
      ],
      "source": [
        "result = model.transcribe(\"eng.wav\")\n",
        "print(result[\"text\"])"
      ]
    },
    {
      "cell_type": "code",
      "execution_count": null,
      "id": "b1d7d354-716b-402e-a515-139a735f1955",
      "metadata": {
        "colab": {
          "base_uri": "https://localhost:8080/"
        },
        "id": "b1d7d354-716b-402e-a515-139a735f1955",
        "outputId": "8668008d-e131-4e41-c6c4-0021962a7216"
      },
      "outputs": [
        {
          "output_type": "stream",
          "name": "stdout",
          "text": [
            "0.0 11.24  Juice drinks, sodas, and sports drinks are loaded with added sugars and calories and\n",
            "11.24 15.48  have little or no nutritional value.\n",
            "15.48 24.72  Sugary drinks can destroy teeth, cause obesity, and lead to type 2 diabetes.\n",
            "24.72 25.72  Sugar bites.\n",
            "25.72 27.04  Protect your kids.\n",
            "30.0 31.0  Go to www.juicedrinks.com for more information.\n"
          ]
        }
      ],
      "source": [
        "for segment in result['segments']:\n",
        "  print(segment['start'], segment['end'], segment['text'])"
      ]
    },
    {
      "cell_type": "code",
      "execution_count": null,
      "id": "b68b5b27-01a6-40f6-af17-937880baf5f1",
      "metadata": {
        "id": "b68b5b27-01a6-40f6-af17-937880baf5f1"
      },
      "outputs": [],
      "source": []
    },
    {
      "cell_type": "code",
      "execution_count": null,
      "id": "291a5fd8-d0d9-48cc-9035-2754b8f0b269",
      "metadata": {
        "id": "291a5fd8-d0d9-48cc-9035-2754b8f0b269"
      },
      "outputs": [],
      "source": []
    },
    {
      "cell_type": "code",
      "execution_count": null,
      "id": "dff75ee9-a5b5-4b51-975e-a050312c6137",
      "metadata": {
        "id": "dff75ee9-a5b5-4b51-975e-a050312c6137"
      },
      "outputs": [],
      "source": []
    },
    {
      "cell_type": "code",
      "execution_count": null,
      "id": "aac93e2b-7f30-4658-a09a-02ed2662f3d3",
      "metadata": {
        "id": "aac93e2b-7f30-4658-a09a-02ed2662f3d3"
      },
      "outputs": [],
      "source": []
    },
    {
      "cell_type": "code",
      "execution_count": null,
      "id": "aa6a3b3b-b352-4d9e-bd8c-faa4073b03e5",
      "metadata": {
        "id": "aa6a3b3b-b352-4d9e-bd8c-faa4073b03e5"
      },
      "outputs": [],
      "source": []
    },
    {
      "cell_type": "code",
      "execution_count": null,
      "id": "26c64e28-6804-45ac-85b9-ebc46cedcefa",
      "metadata": {
        "id": "26c64e28-6804-45ac-85b9-ebc46cedcefa"
      },
      "outputs": [],
      "source": []
    }
  ],
  "metadata": {
    "kernelspec": {
      "display_name": "Python 3",
      "name": "python3"
    },
    "language_info": {
      "codemirror_mode": {
        "name": "ipython",
        "version": 3
      },
      "file_extension": ".py",
      "mimetype": "text/x-python",
      "name": "python",
      "nbconvert_exporter": "python",
      "pygments_lexer": "ipython3",
      "version": "3.9.12"
    },
    "toc": {
      "base_numbering": 1,
      "nav_menu": {},
      "number_sections": true,
      "sideBar": true,
      "skip_h1_title": false,
      "title_cell": "Table of Contents",
      "title_sidebar": "Contents",
      "toc_cell": false,
      "toc_position": {},
      "toc_section_display": true,
      "toc_window_display": false
    },
    "colab": {
      "provenance": [],
      "gpuType": "T4",
      "include_colab_link": true
    },
    "accelerator": "GPU"
  },
  "nbformat": 4,
  "nbformat_minor": 5
}